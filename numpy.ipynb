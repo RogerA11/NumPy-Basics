{
 "cells": [
  {
   "attachments": {},
   "cell_type": "markdown",
   "metadata": {},
   "source": [
    "### NumPy Basics"
   ]
  },
  {
   "cell_type": "code",
   "execution_count": 1,
   "metadata": {},
   "outputs": [],
   "source": [
    "# importing numpy\n",
    "import numpy as np"
   ]
  },
  {
   "attachments": {},
   "cell_type": "markdown",
   "metadata": {},
   "source": [
    "##### Creating Arrays"
   ]
  },
  {
   "cell_type": "code",
   "execution_count": 3,
   "metadata": {},
   "outputs": [
    {
     "data": {
      "text/plain": [
       "array([0, 1, 2, 3, 4, 5, 6, 7, 8, 9])"
      ]
     },
     "execution_count": 3,
     "metadata": {},
     "output_type": "execute_result"
    }
   ],
   "source": [
    "# add a list\n",
    "np.array([0,1,2,3,4,5,6,7,8,9])"
   ]
  },
  {
   "cell_type": "code",
   "execution_count": 4,
   "metadata": {},
   "outputs": [
    {
     "data": {
      "text/plain": [
       "array([1., 1., 1., 1., 1., 1., 1., 1., 1., 1.])"
      ]
     },
     "execution_count": 4,
     "metadata": {},
     "output_type": "execute_result"
    }
   ],
   "source": [
    "# initialize ones\n",
    "np.ones(10)"
   ]
  },
  {
   "cell_type": "code",
   "execution_count": 5,
   "metadata": {},
   "outputs": [
    {
     "data": {
      "text/plain": [
       "array([0., 0., 0., 0., 0., 0., 0., 0., 0., 0.])"
      ]
     },
     "execution_count": 5,
     "metadata": {},
     "output_type": "execute_result"
    }
   ],
   "source": [
    "# initialize zeros\n",
    "np.zeros(10)"
   ]
  },
  {
   "cell_type": "code",
   "execution_count": 6,
   "metadata": {},
   "outputs": [
    {
     "data": {
      "text/plain": [
       "array([0.61306764, 0.43164544, 0.6334958 , 0.49397106, 0.09243124,\n",
       "       0.57973873, 0.48743213, 0.06767047, 0.42601021, 0.64346797])"
      ]
     },
     "execution_count": 6,
     "metadata": {},
     "output_type": "execute_result"
    }
   ],
   "source": [
    "# initialize random numbers\n",
    "np.random.random(10)"
   ]
  },
  {
   "attachments": {},
   "cell_type": "markdown",
   "metadata": {},
   "source": [
    "#### Array Arithmetic"
   ]
  },
  {
   "cell_type": "code",
   "execution_count": 7,
   "metadata": {},
   "outputs": [
    {
     "data": {
      "text/plain": [
       "array([ 1.,  2.,  3.,  4.,  5.,  6.,  7.,  8.,  9., 10.])"
      ]
     },
     "execution_count": 7,
     "metadata": {},
     "output_type": "execute_result"
    }
   ],
   "source": [
    "# plus \n",
    "np_data = np.array([0,1,2,3,4,5,6,7,8,9])\n",
    "np_ones = np.ones(10)\n",
    "np_data + np_ones"
   ]
  },
  {
   "cell_type": "code",
   "execution_count": 8,
   "metadata": {},
   "outputs": [
    {
     "data": {
      "text/plain": [
       "array([-1.,  0.,  1.,  2.,  3.,  4.,  5.,  6.,  7.,  8.])"
      ]
     },
     "execution_count": 8,
     "metadata": {},
     "output_type": "execute_result"
    }
   ],
   "source": [
    "# minus \n",
    "np_data = np.array([0,1,2,3,4,5,6,7,8,9])\n",
    "np_ones = np.ones(10)\n",
    "np_data - np_ones"
   ]
  },
  {
   "cell_type": "code",
   "execution_count": 9,
   "metadata": {},
   "outputs": [
    {
     "data": {
      "text/plain": [
       "array([ 0.,  2.,  4.,  6.,  8., 10., 12., 14., 16., 18.])"
      ]
     },
     "execution_count": 9,
     "metadata": {},
     "output_type": "execute_result"
    }
   ],
   "source": [
    "# multiply by two \n",
    "np_data = np.array([0,1,2,3,4,5,6,7,8,9])\n",
    "np_ones = np.ones(10)\n",
    "np_data * (np_ones+1)"
   ]
  },
  {
   "cell_type": "code",
   "execution_count": 10,
   "metadata": {},
   "outputs": [
    {
     "data": {
      "text/plain": [
       "array([0. , 0.5, 1. , 1.5, 2. , 2.5, 3. , 3.5, 4. , 4.5])"
      ]
     },
     "execution_count": 10,
     "metadata": {},
     "output_type": "execute_result"
    }
   ],
   "source": [
    "# divide by 2\n",
    "np_data = np.array([0,1,2,3,4,5,6,7,8,9])\n",
    "np_ones = np.ones(10)\n",
    "np_data / (np_ones+1)"
   ]
  },
  {
   "cell_type": "code",
   "execution_count": 11,
   "metadata": {},
   "outputs": [
    {
     "data": {
      "text/plain": [
       "array([ 0. ,  1.5,  3. ,  4.5,  6. ,  7.5,  9. , 10.5, 12. , 13.5])"
      ]
     },
     "execution_count": 11,
     "metadata": {},
     "output_type": "execute_result"
    }
   ],
   "source": [
    "# broadcast multiplication\n",
    "np_data = np.array([0,1,2,3,4,5,6,7,8,9])\n",
    "np_data * 1.5"
   ]
  },
  {
   "attachments": {},
   "cell_type": "markdown",
   "metadata": {},
   "source": [
    "#### Aggregation"
   ]
  },
  {
   "cell_type": "code",
   "execution_count": 12,
   "metadata": {},
   "outputs": [
    {
     "data": {
      "text/plain": [
       "0"
      ]
     },
     "execution_count": 12,
     "metadata": {},
     "output_type": "execute_result"
    }
   ],
   "source": [
    "# min\n",
    "np_data = np.array([0,1,2,3,4,5,6,7,8,9,10])\n",
    "np_data.min()"
   ]
  },
  {
   "cell_type": "code",
   "execution_count": 13,
   "metadata": {},
   "outputs": [
    {
     "data": {
      "text/plain": [
       "10"
      ]
     },
     "execution_count": 13,
     "metadata": {},
     "output_type": "execute_result"
    }
   ],
   "source": [
    "# max\n",
    "np_data = np.array([0,1,2,3,4,5,6,7,8,9,10])\n",
    "np_data.max()"
   ]
  },
  {
   "cell_type": "code",
   "execution_count": 14,
   "metadata": {},
   "outputs": [
    {
     "data": {
      "text/plain": [
       "55"
      ]
     },
     "execution_count": 14,
     "metadata": {},
     "output_type": "execute_result"
    }
   ],
   "source": [
    "# sum\n",
    "np_data = np.array([0,1,2,3,4,5,6,7,8,9,10])\n",
    "np_data.sum()"
   ]
  },
  {
   "cell_type": "code",
   "execution_count": 15,
   "metadata": {},
   "outputs": [
    {
     "data": {
      "text/plain": [
       "5.0"
      ]
     },
     "execution_count": 15,
     "metadata": {},
     "output_type": "execute_result"
    }
   ],
   "source": [
    "# mean\n",
    "np_data = np.array([0,1,2,3,4,5,6,7,8,9,10])\n",
    "np_data.mean()"
   ]
  },
  {
   "cell_type": "code",
   "execution_count": 16,
   "metadata": {},
   "outputs": [
    {
     "data": {
      "text/plain": [
       "3.1622776601683795"
      ]
     },
     "execution_count": 16,
     "metadata": {},
     "output_type": "execute_result"
    }
   ],
   "source": [
    "# standard deviation\n",
    "np_data = np.array([0,1,2,3,4,5,6,7,8,9,10])\n",
    "np_data.std()"
   ]
  },
  {
   "attachments": {},
   "cell_type": "markdown",
   "metadata": {},
   "source": [
    "#### Arrays with more Dimensions"
   ]
  },
  {
   "cell_type": "code",
   "execution_count": 21,
   "metadata": {},
   "outputs": [
    {
     "name": "stdout",
     "output_type": "stream",
     "text": [
      "zero 3x2\n",
      "[[0. 0.]\n",
      " [0. 0.]\n",
      " [0. 0.]]\n",
      "\n",
      "one 3x2\n",
      "[[1. 1.]\n",
      " [1. 1.]\n",
      " [1. 1.]]\n",
      "\n",
      "random 3x2\n",
      "[[0.15941314 0.48724027]\n",
      " [0.95799156 0.7217771 ]\n",
      " [0.38127813 0.77514596]]\n"
     ]
    }
   ],
   "source": [
    "# create zero, one and random 3x2 matrices\n",
    "zero_nd = np.zeros((3,2))\n",
    "one_nd = np.ones((3,2))\n",
    "random_nd = np.random.random((3,2))\n",
    "print(f'zero 3x2\\n{zero_nd}\\n\\none 3x2\\n{one_nd}\\n\\nrandom 3x2\\n{random_nd}')"
   ]
  },
  {
   "attachments": {},
   "cell_type": "markdown",
   "metadata": {},
   "source": [
    "#### Matrix Arithmetic"
   ]
  },
  {
   "cell_type": "code",
   "execution_count": 8,
   "metadata": {},
   "outputs": [
    {
     "data": {
      "text/plain": [
       "array([[2., 3.],\n",
       "       [4., 5.],\n",
       "       [6., 7.]])"
      ]
     },
     "execution_count": 8,
     "metadata": {},
     "output_type": "execute_result"
    }
   ],
   "source": [
    "# add ones to 3x2 data\n",
    "data = np.array([[1,2],[3,4],[5,6]])\n",
    "one_nd = np.ones((3,2))\n",
    "data + one_nd"
   ]
  },
  {
   "attachments": {},
   "cell_type": "markdown",
   "metadata": {},
   "source": [
    "#### Dot Product"
   ]
  },
  {
   "cell_type": "code",
   "execution_count": 4,
   "metadata": {},
   "outputs": [
    {
     "data": {
      "text/plain": [
       "array([ 30201, 302010])"
      ]
     },
     "execution_count": 4,
     "metadata": {},
     "output_type": "execute_result"
    }
   ],
   "source": [
    "# 1x3 multiplied by 3x2 equals 1x2\n",
    "data = np.array([1,2,3])\n",
    "powers_of_ten = np.array([[1,10], [100,1000], [10000,100000]])\n",
    "data.dot(powers_of_ten)"
   ]
  },
  {
   "cell_type": "code",
   "execution_count": null,
   "metadata": {},
   "outputs": [],
   "source": [
    "# longer approach but similar to above \n"
   ]
  },
  {
   "attachments": {},
   "cell_type": "markdown",
   "metadata": {},
   "source": [
    "#### Matrix Aggregation"
   ]
  },
  {
   "cell_type": "code",
   "execution_count": 8,
   "metadata": {},
   "outputs": [
    {
     "name": "stdout",
     "output_type": "stream",
     "text": [
      "original data - 5x2\n",
      "[[0 1]\n",
      " [2 3]\n",
      " [4 5]\n",
      " [6 7]\n",
      " [8 9]]\n",
      "\n",
      "min of data - 1x1\n",
      "0\n",
      "\n",
      "min of columns - 1x2\n",
      "[0 1]\n",
      "\n",
      "min of rows - 1x5\n",
      "[0 2 4 6 8]\n"
     ]
    }
   ],
   "source": [
    "# min\n",
    "np_data = np.array([[0,1], [2,3] ,[4,5], [6,7], [8,9]])\n",
    "print(f'original data - 5x2\\n{np_data}\\n')\n",
    "print(f'min of data - 1x1\\n{np_data.min()}\\n')\n",
    "print(f'min of columns - 1x2\\n{np_data.min(axis=0)}\\n')\n",
    "print(f'min of rows - 1x5\\n{np_data.min(axis=1)}')\n"
   ]
  },
  {
   "cell_type": "code",
   "execution_count": 9,
   "metadata": {},
   "outputs": [
    {
     "name": "stdout",
     "output_type": "stream",
     "text": [
      "original data - 5x2\n",
      "[[0 1]\n",
      " [2 3]\n",
      " [4 5]\n",
      " [6 7]\n",
      " [8 9]]\n",
      "\n",
      "max of data - 1x1\n",
      "9\n",
      "\n",
      "max of columns - 1x2\n",
      "[8 9]\n",
      "\n",
      "max of rows - 1x5\n",
      "[1 3 5 7 9]\n"
     ]
    }
   ],
   "source": [
    "# max\n",
    "np_data = np.array([[0,1], [2,3] ,[4,5], [6,7], [8,9]])\n",
    "print(f'original data - 5x2\\n{np_data}\\n')\n",
    "print(f'max of data - 1x1\\n{np_data.max()}\\n')\n",
    "print(f'max of columns - 1x2\\n{np_data.max(axis=0)}\\n')\n",
    "print(f'max of rows - 1x5\\n{np_data.max(axis=1)}')\n",
    "\n"
   ]
  },
  {
   "cell_type": "code",
   "execution_count": 10,
   "metadata": {},
   "outputs": [
    {
     "name": "stdout",
     "output_type": "stream",
     "text": [
      "original data - 5x2\n",
      "[[0 1]\n",
      " [2 3]\n",
      " [4 5]\n",
      " [6 7]\n",
      " [8 9]]\n",
      "\n",
      "sum of data - 1x1\n",
      "45\n",
      "\n",
      "sum of columns - 1x2\n",
      "[20 25]\n",
      "\n",
      "sum of rows - 1x5\n",
      "[ 1  5  9 13 17]\n"
     ]
    }
   ],
   "source": [
    "# sum\n",
    "np_data = np.array([[0,1], [2,3] ,[4,5], [6,7], [8,9]])\n",
    "print(f'original data - 5x2\\n{np_data}\\n')\n",
    "print(f'sum of data - 1x1\\n{np_data.sum()}\\n')\n",
    "print(f'sum of columns - 1x2\\n{np_data.sum(axis=0)}\\n')\n",
    "print(f'sum of rows - 1x5\\n{np_data.sum(axis=1)}')\n",
    "\n"
   ]
  },
  {
   "cell_type": "code",
   "execution_count": 12,
   "metadata": {},
   "outputs": [
    {
     "name": "stdout",
     "output_type": "stream",
     "text": [
      "original data - 5x2\n",
      "[[0 1]\n",
      " [2 3]\n",
      " [4 5]\n",
      " [6 7]\n",
      " [8 9]]\n",
      "\n",
      "mean of data - 1x1\n",
      "4.5\n",
      "\n",
      "mean of columns - 1x2\n",
      "[4. 5.]\n",
      "\n",
      "mean of rows - 1x5\n",
      "[0.5 2.5 4.5 6.5 8.5]\n"
     ]
    }
   ],
   "source": [
    "# mean\n",
    "np_data = np.array([[0,1], [2,3] ,[4,5], [6,7], [8,9]])\n",
    "print(f'original data - 5x2\\n{np_data}\\n')\n",
    "print(f'mean of data - 1x1\\n{np_data.mean()}\\n')\n",
    "print(f'mean of columns - 1x2\\n{np_data.mean(axis=0)}\\n')\n",
    "print(f'mean of rows - 1x5\\n{np_data.mean(axis=1)}')\n"
   ]
  },
  {
   "cell_type": "code",
   "execution_count": 13,
   "metadata": {},
   "outputs": [
    {
     "name": "stdout",
     "output_type": "stream",
     "text": [
      "original data - 5x2\n",
      "[[0 1]\n",
      " [2 3]\n",
      " [4 5]\n",
      " [6 7]\n",
      " [8 9]]\n",
      "\n",
      "std of data - 1x1\n",
      "2.8722813232690143\n",
      "\n",
      "std of columns - 1x2\n",
      "[2.82842712 2.82842712]\n",
      "\n",
      "std of rows - 1x5\n",
      "[0.5 0.5 0.5 0.5 0.5]\n"
     ]
    }
   ],
   "source": [
    "# std\n",
    "np_data = np.array([[0,1], [2,3] ,[4,5], [6,7], [8,9]])\n",
    "print(f'original data - 5x2\\n{np_data}\\n')\n",
    "print(f'std of data - 1x1\\n{np_data.std()}\\n')\n",
    "print(f'std of columns - 1x2\\n{np_data.std(axis=0)}\\n')\n",
    "print(f'std of rows - 1x5\\n{np_data.std(axis=1)}')\n"
   ]
  },
  {
   "attachments": {},
   "cell_type": "markdown",
   "metadata": {},
   "source": [
    "#### Transposing and Reshaping"
   ]
  },
  {
   "cell_type": "code",
   "execution_count": 2,
   "metadata": {},
   "outputs": [
    {
     "name": "stdout",
     "output_type": "stream",
     "text": [
      "Original data - 5x2\n",
      "[[0 1]\n",
      " [2 3]\n",
      " [4 5]\n",
      " [6 7]\n",
      " [8 9]]\n",
      "\n",
      "Transposed data - 2x5\n",
      "[[0 2 4 6 8]\n",
      " [1 3 5 7 9]]\n",
      "\n"
     ]
    }
   ],
   "source": [
    "# transpose 5x2 to 2x5\n",
    "np_data = np.array([[0,1], [2,3] ,[4,5], [6,7], [8,9]])\n",
    "print(f'Original data - 5x2\\n{np_data}\\n')\n",
    "print(f'Transposed data - 2x5\\n{np_data.T}\\n')"
   ]
  },
  {
   "cell_type": "code",
   "execution_count": 7,
   "metadata": {},
   "outputs": [
    {
     "name": "stdout",
     "output_type": "stream",
     "text": [
      "Original data - 1x10\n",
      "[0 1 2 3 4 5 6 7 8 9]\n",
      "\n",
      "Reshaped data - 2x5\n",
      "[[0 1 2 3 4]\n",
      " [5 6 7 8 9]]\n",
      "\n",
      "Reshaped data - 5x2\n",
      "[[0 1]\n",
      " [2 3]\n",
      " [4 5]\n",
      " [6 7]\n",
      " [8 9]]\n",
      "\n"
     ]
    }
   ],
   "source": [
    "# reshape 1x10 to 2x5 and 5x2\n",
    "np_data = np.array([0,1,2,3,4,5,6,7,8,9])\n",
    "print(f'Original data - 1x10\\n{np_data}\\n')\n",
    "print(f'Reshaped data - 2x5\\n{np_data.reshape(2,5)}\\n')\n",
    "print(f'Reshaped data - 5x2\\n{np_data.reshape(5,2)}\\n')"
   ]
  },
  {
   "attachments": {},
   "cell_type": "markdown",
   "metadata": {},
   "source": [
    "#### More Dimensions"
   ]
  },
  {
   "cell_type": "code",
   "execution_count": 3,
   "metadata": {},
   "outputs": [
    {
     "name": "stdout",
     "output_type": "stream",
     "text": [
      "4x3x2 dimension of ones \n",
      "\n",
      "[[[1. 1.]\n",
      "  [1. 1.]\n",
      "  [1. 1.]]\n",
      "\n",
      " [[1. 1.]\n",
      "  [1. 1.]\n",
      "  [1. 1.]]\n",
      "\n",
      " [[1. 1.]\n",
      "  [1. 1.]\n",
      "  [1. 1.]]\n",
      "\n",
      " [[1. 1.]\n",
      "  [1. 1.]\n",
      "  [1. 1.]]]\n"
     ]
    }
   ],
   "source": [
    "# 4x3x2 dimension of ones\n",
    "np_data = np.ones((4,3,2))\n",
    "print(f'4x3x2 dimension of ones \\n\\n{np_data}')"
   ]
  },
  {
   "cell_type": "code",
   "execution_count": null,
   "metadata": {},
   "outputs": [],
   "source": []
  },
  {
   "attachments": {},
   "cell_type": "markdown",
   "metadata": {},
   "source": [
    "# "
   ]
  }
 ],
 "metadata": {
  "kernelspec": {
   "display_name": "Python 3",
   "language": "python",
   "name": "python3"
  },
  "language_info": {
   "codemirror_mode": {
    "name": "ipython",
    "version": 3
   },
   "file_extension": ".py",
   "mimetype": "text/x-python",
   "name": "python",
   "nbconvert_exporter": "python",
   "pygments_lexer": "ipython3",
   "version": "3.11.1"
  },
  "orig_nbformat": 4
 },
 "nbformat": 4,
 "nbformat_minor": 2
}
